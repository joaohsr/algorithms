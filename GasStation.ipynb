{
 "cells": [
  {
   "cell_type": "markdown",
   "metadata": {},
   "source": [
    "# Gas Station"
   ]
  },
  {
   "cell_type": "markdown",
   "metadata": {},
   "source": [
    "Have the function GasStation(strArr) take strArr which will be an an array consisting of the following elements: N which will be the number of gas stations in a circular route and each subsequent element will be the string g:c where g is the amount of gas in gallons at that gas station and c will be the amount of gallons of gas needed to get to the following gas station. For example strArr may be: [\"4\",\"3:1\",\"2:2\",\"1:2\",\"0:1\"]. Your goal is to return the index of the starting gas station that will allow you to travel around the whole route once, otherwise return the string impossible. For the example above, there are 4 gas stations, and your program should return the string 1 because starting at station 1 you receive 3 gallons of gas and spend 1 getting to the next station. Then you have 2 gallons + 2 more at the next station and you spend 2 so you have 2 gallons when you get to the 3rd station. You then have 3 but you spend 2 getting to the final station, and at the final station you receive 0 gallons and you spend your final gallon getting to your starting point. Starting at any other gas station would make getting around the route impossible, so the answer is 1. If there are multiple gas stations that are possible to start at, return the smallest index (of the gas station). N will be >= 2."
   ]
  },
  {
   "cell_type": "markdown",
   "metadata": {},
   "source": [
    "## Sample Test Cases\n",
    "#### Input:[\"4\",\"1:1\",\"2:2\",\"1:2\",\"0:1\"]\n",
    "* Output: \"impossible\"\n",
    "\n",
    "#### Input:[\"4\",\"0:1\",\"2:2\",\"1:2\",\"3:1\"]\n",
    "* Output: \"4\""
   ]
  },
  {
   "cell_type": "code",
   "execution_count": 1,
   "metadata": {},
   "outputs": [],
   "source": [
    "# v2\n",
    "def gas_station(strArr):\n",
    "    \n",
    "    gas_amount = 0\n",
    "    \n",
    "    qty_gas_station = strArr.pop(0)\n",
    "    \n",
    "    for i in range(0, len(strArr)):\n",
    "        starting_gas_station = i + 1\n",
    "        route_order = strArr[i::] + strArr[:i:]\n",
    "        gas_amount = 0\n",
    "\n",
    "        for gas_station in range(0, len(route_order)):\n",
    "            gas_amount += int(route_order[gas_station].split(':')[0])\n",
    "            gas_need = int(route_order[gas_station].split(':')[1])\n",
    "\n",
    "            if gas_amount >= gas_need:\n",
    "                gas_amount -= gas_need\n",
    "            else:\n",
    "                starting_gas_station = \"Impossible\"\n",
    "                break\n",
    "                \n",
    "        if starting_gas_station != \"Impossible\":\n",
    "            break\n",
    "                \n",
    "    return starting_gas_station"
   ]
  },
  {
   "cell_type": "code",
   "execution_count": 2,
   "metadata": {},
   "outputs": [
    {
     "data": {
      "text/plain": [
       "1"
      ]
     },
     "execution_count": 2,
     "metadata": {},
     "output_type": "execute_result"
    }
   ],
   "source": [
    "gas_station([\"4\",\"3:1\",\"2:2\",\"1:2\",\"0:1\"])"
   ]
  },
  {
   "cell_type": "code",
   "execution_count": 3,
   "metadata": {},
   "outputs": [
    {
     "data": {
      "text/plain": [
       "'Impossible'"
      ]
     },
     "execution_count": 3,
     "metadata": {},
     "output_type": "execute_result"
    }
   ],
   "source": [
    "gas_station([\"4\",\"1:1\",\"2:2\",\"1:2\",\"0:1\"])"
   ]
  },
  {
   "cell_type": "code",
   "execution_count": 4,
   "metadata": {},
   "outputs": [
    {
     "data": {
      "text/plain": [
       "4"
      ]
     },
     "execution_count": 4,
     "metadata": {},
     "output_type": "execute_result"
    }
   ],
   "source": [
    "gas_station([\"4\",\"0:1\",\"2:2\",\"1:2\",\"3:1\"])"
   ]
  }
 ],
 "metadata": {
  "kernelspec": {
   "display_name": "Python 3",
   "language": "python",
   "name": "python3"
  },
  "language_info": {
   "codemirror_mode": {
    "name": "ipython",
    "version": 3
   },
   "file_extension": ".py",
   "mimetype": "text/x-python",
   "name": "python",
   "nbconvert_exporter": "python",
   "pygments_lexer": "ipython3",
   "version": "3.8.3"
  }
 },
 "nbformat": 4,
 "nbformat_minor": 4
}
