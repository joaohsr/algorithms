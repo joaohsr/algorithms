{
 "cells": [
  {
   "cell_type": "markdown",
   "metadata": {},
   "source": [
    "# Quicksort"
   ]
  },
  {
   "cell_type": "markdown",
   "metadata": {},
   "source": [
    "A common technique on programming is sort type algorithms. \n",
    "Implement the quicksort algorithm to sort a vector A using a function quicksort(A)."
   ]
  },
  {
   "cell_type": "markdown",
   "metadata": {},
   "source": [
    "## Sample Test Cases\n",
    "#### Input: [4,5,1,7,10,2]\n",
    "* Output: [1,2,4,5,7,10]"
   ]
  },
  {
   "cell_type": "code",
   "execution_count": 29,
   "metadata": {},
   "outputs": [],
   "source": [
    "def partition(A, left, right):\n",
    "    i = left + 1\n",
    "    j = right\n",
    "    pivot = A[left]\n",
    "    \n",
    "    while (i <= j):\n",
    "        if A[i] <= pivot:\n",
    "            i += 1\n",
    "        elif A[j] >= pivot:\n",
    "            j -= 1\n",
    "        elif i <= j:\n",
    "            A[i], A[j] = A[j], A[i]\n",
    "            i += 1\n",
    "            j -= 1\n",
    "    \n",
    "    A[left], A[j] = A[j], A[left]\n",
    "    \n",
    "    return j            "
   ]
  },
  {
   "cell_type": "code",
   "execution_count": 126,
   "metadata": {},
   "outputs": [],
   "source": [
    "def qksort_recursively(A, left, right):\n",
    "    if left < right:\n",
    "        j = partition(A, left, right)\n",
    "        \n",
    "        qksort_recursively(A, left, j-1)\n",
    "        qksort_recursively(A, j+1, right)"
   ]
  },
  {
   "cell_type": "code",
   "execution_count": 121,
   "metadata": {},
   "outputs": [],
   "source": [
    "def quicksort(A):\n",
    "    qksort_recursively(A, 0, len(A)-1)"
   ]
  },
  {
   "cell_type": "code",
   "execution_count": 139,
   "metadata": {},
   "outputs": [
    {
     "name": "stdout",
     "output_type": "stream",
     "text": [
      "[1, 2, 4, 5, 7, 10]\n"
     ]
    }
   ],
   "source": [
    "A = [4, 5, 1, 7, 10, 2]\n",
    "quicksort(A)\n",
    "print(A)"
   ]
  },
  {
   "cell_type": "code",
   "execution_count": 140,
   "metadata": {},
   "outputs": [
    {
     "name": "stdout",
     "output_type": "stream",
     "text": [
      "[1, 2, 2, 7, 7, 8, 8, 9, 12, 19, 34, 67]\n"
     ]
    }
   ],
   "source": [
    "A = [9, 1, 2, 7, 8, 12, 19, 8, 7, 2, 67, 34]\n",
    "quicksort(A)\n",
    "print(A)"
   ]
  }
 ],
 "metadata": {
  "kernelspec": {
   "display_name": "Python 3",
   "language": "python",
   "name": "python3"
  },
  "language_info": {
   "codemirror_mode": {
    "name": "ipython",
    "version": 3
   },
   "file_extension": ".py",
   "mimetype": "text/x-python",
   "name": "python",
   "nbconvert_exporter": "python",
   "pygments_lexer": "ipython3",
   "version": "3.8.3"
  }
 },
 "nbformat": 4,
 "nbformat_minor": 4
}
