{
 "cells": [
  {
   "cell_type": "markdown",
   "metadata": {},
   "source": [
    "# Scale Balancing\n",
    "## Sample Test Cases\n",
    "\n",
    "#### [\"[5, 9]\", \"[1, 2, 6, 7]\"]\n",
    "* Output: 2,6\n",
    "\n",
    "#### Input:[\"[3, 4]\", \"[1, 2, 7, 7]\"]\n",
    "* Output: 1\n",
    "\n",
    "#### Input:[\"[13, 4]\", \"[1, 2, 3, 6, 14]\"]\n",
    "* Output: 3,6\n",
    "\n"
   ]
  },
  {
   "cell_type": "code",
   "execution_count": 1,
   "metadata": {},
   "outputs": [],
   "source": [
    "import json\n",
    "\n",
    "def scale_balancing(strArr):\n",
    "\n",
    "    balance = json.loads(strArr[0])\n",
    "    available_weights = json.loads(strArr[1])\n",
    "    \n",
    "    balance.sort()\n",
    "    available_weights.sort()\n",
    "    \n",
    "    selected_weights = []\n",
    "    \n",
    "    for weight in available_weights:\n",
    "        if (balance[0] + weight) == balance[1]:\n",
    "            return str(weight)\n",
    "        elif (balance[0] + weight) < balance[1]:\n",
    "            selected_weights.append(weight)\n",
    "            \n",
    "    for selected_weight in selected_weights:\n",
    "        new_left_side = balance[0] + selected_weight\n",
    "        new_available_weights = available_weights.copy()\n",
    "        new_available_weights.remove(selected_weight)\n",
    "        \n",
    "        for weight in new_available_weights:\n",
    "            if (new_left_side + weight) == balance[1]:\n",
    "                return str(selected_weight) + ',' + str(weight)\n",
    "            \n",
    "    for selected_weight in available_weights:\n",
    "        new_right_side = balance[1] + selected_weight\n",
    "        new_available_weights = available_weights.copy()\n",
    "        new_available_weights.remove(selected_weight)\n",
    "        \n",
    "        for weight in new_available_weights:\n",
    "            if (balance[0] + weight) == new_right_side:\n",
    "                return str(selected_weight) + ',' + str(weight)\n",
    "    \n",
    "    return \"Not possible\""
   ]
  },
  {
   "cell_type": "code",
   "execution_count": 2,
   "metadata": {},
   "outputs": [
    {
     "data": {
      "text/plain": [
       "'4'"
      ]
     },
     "execution_count": 2,
     "metadata": {},
     "output_type": "execute_result"
    }
   ],
   "source": [
    "scale_balancing([\"[5,9]\",\"[1,2,4,7]\"])"
   ]
  },
  {
   "cell_type": "code",
   "execution_count": 3,
   "metadata": {},
   "outputs": [
    {
     "data": {
      "text/plain": [
       "'4'"
      ]
     },
     "execution_count": 3,
     "metadata": {},
     "output_type": "execute_result"
    }
   ],
   "source": [
    "scale_balancing([\"[5,9]\",\"[1,2,2,4,7]\"])"
   ]
  },
  {
   "cell_type": "code",
   "execution_count": 4,
   "metadata": {},
   "outputs": [
    {
     "data": {
      "text/plain": [
       "'2,2'"
      ]
     },
     "execution_count": 4,
     "metadata": {},
     "output_type": "execute_result"
    }
   ],
   "source": [
    "scale_balancing([\"[5,9]\",\"[1,2,2,7]\"])"
   ]
  },
  {
   "cell_type": "code",
   "execution_count": 5,
   "metadata": {},
   "outputs": [
    {
     "data": {
      "text/plain": [
       "'1,3'"
      ]
     },
     "execution_count": 5,
     "metadata": {},
     "output_type": "execute_result"
    }
   ],
   "source": [
    "scale_balancing([\"[5,9]\",\"[1,2,3,7]\"])"
   ]
  },
  {
   "cell_type": "code",
   "execution_count": 6,
   "metadata": {},
   "outputs": [
    {
     "data": {
      "text/plain": [
       "'2,6'"
      ]
     },
     "execution_count": 6,
     "metadata": {},
     "output_type": "execute_result"
    }
   ],
   "source": [
    "scale_balancing([\"[5,9]\",\"[1,2,6,7]\"])"
   ]
  },
  {
   "cell_type": "code",
   "execution_count": 7,
   "metadata": {},
   "outputs": [
    {
     "data": {
      "text/plain": [
       "'1'"
      ]
     },
     "execution_count": 7,
     "metadata": {},
     "output_type": "execute_result"
    }
   ],
   "source": [
    "scale_balancing([\"[3, 4]\", \"[1, 2, 7, 7]\"])"
   ]
  },
  {
   "cell_type": "code",
   "execution_count": 8,
   "metadata": {},
   "outputs": [
    {
     "data": {
      "text/plain": [
       "'3,6'"
      ]
     },
     "execution_count": 8,
     "metadata": {},
     "output_type": "execute_result"
    }
   ],
   "source": [
    "scale_balancing([\"[13, 4]\", \"[1, 2, 3, 6, 14]\"])"
   ]
  }
 ],
 "metadata": {
  "kernelspec": {
   "display_name": "Python 3",
   "language": "python",
   "name": "python3"
  },
  "language_info": {
   "codemirror_mode": {
    "name": "ipython",
    "version": 3
   },
   "file_extension": ".py",
   "mimetype": "text/x-python",
   "name": "python",
   "nbconvert_exporter": "python",
   "pygments_lexer": "ipython3",
   "version": "3.8.3"
  }
 },
 "nbformat": 4,
 "nbformat_minor": 4
}
